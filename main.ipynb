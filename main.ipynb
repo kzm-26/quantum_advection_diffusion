{
 "cells": [
  {
   "cell_type": "code",
   "execution_count": 1,
   "id": "55de2c61-6a89-4829-bc88-2a39838e0a25",
   "metadata": {},
   "outputs": [],
   "source": [
    "import numpy as np\n",
    "import pandas as pd\n",
    "import matplotlib.pyplot as plt\n",
    "from tqdm import tqdm , trange\n",
    "%matplotlib inline\n",
    "import math\n",
    "from qiskit import QuantumCircuit,execute,Aer,IBMQ,QuantumRegister,ClassicalRegister\n",
    "from openpyxl import Workbook\n",
    "from openpyxl import load_workbook\n",
    "provider = IBMQ.load_account()\n",
    "import ad_diff_module as adm"
   ]
  },
  {
   "cell_type": "code",
   "execution_count": 2,
   "id": "ce01822f-7308-4eea-a6fd-9827cad4309b",
   "metadata": {
    "tags": []
   },
   "outputs": [],
   "source": [
    "# 使う量子ビット数を定義\n",
    "qnum_dic = {\n",
    "    'qnum' : 14,\n",
    "    'qnum_after_decimal' : 4,\n",
    "    'qnum_const' : 4,\n",
    "    'qnum_interger' : 10\n",
    "}\n",
    "\n",
    "# 定数設定\n",
    "const_dic = {\n",
    "    'dt' : 1, \n",
    "    'dx' : 1,\n",
    "    'x' : 40,\n",
    "    't' : 10,\n",
    "    'C' : 0.125,\n",
    "    'D' : 0.25\n",
    "}\n",
    "C = const_dic['C']\n",
    "D = const_dic['D']\n",
    "\n",
    "qnum = qnum_dic['qnum']\n",
    "qnum_after_decimal = qnum_dic['qnum_after_decimal']\n",
    "qnum_const = qnum_dic['qnum_const']\n",
    "qnum_interger = qnum_dic['qnum_interger']\n",
    "\n",
    "# 量子回路実行設定\n",
    "execute_setting = {\n",
    "    'provider' : provider,\n",
    "    'shots' : 1,\n",
    "    'simulator' : 'simulator_mps'\n",
    "}\n",
    "\n",
    "# 回路作成用インデックス\n",
    "index_dic = {\n",
    "    'x':[i for i in range(qnum)],\n",
    "    'x_c':[i for i in range(qnum,qnum+qnum_const)],\n",
    "    'y':[i for i in range(qnum+qnum_const,qnum+qnum_const+qnum)],\n",
    "    'y_c':[i for i in range(qnum+qnum_const+qnum,qnum+qnum_const+qnum+qnum_const)],\n",
    "    'z':[i for i in range(qnum+qnum_const+qnum+qnum_const,qnum+qnum_const+qnum+qnum_const+qnum)],\n",
    "    'z_c':[i for i in range(qnum+qnum_const+qnum+qnum_const+qnum,qnum+qnum_const+qnum+qnum_const+qnum+qnum_const)],\n",
    "    'ans':[i for i in range(qnum+qnum_const+qnum+qnum_const+qnum+qnum_const,qnum+qnum_const+qnum+qnum_const+qnum+qnum_const+qnum)]\n",
    "}"
   ]
  },
  {
   "cell_type": "code",
   "execution_count": 3,
   "id": "3fc8d5c8-8d16-441a-9d0d-f58e5aa8143f",
   "metadata": {},
   "outputs": [],
   "source": [
    "# エクセル設定\n",
    "ABC = []\n",
    "for i in range(26):\n",
    "    ABC.append(chr(ord('A')+i))\n",
    "for j in range(4):\n",
    "    for i in range(26):\n",
    "        ABC.append(ABC[j]+ABC[i])\n",
    "while len(ABC)>const_dic['x']:\n",
    "    ABC.pop()\n",
    "excel_columns = ABC\n",
    "excel_index = [str(i+1) for i in range(500)]\n",
    "# 使用するエクセルブックのパスをここで設定。\n",
    "file_path = './result_data/ad_diff_out.xlsx'\n",
    "# 使用するエクセルブックのシートネームを指定\n",
    "sheet_name = '量子'"
   ]
  },
  {
   "cell_type": "code",
   "execution_count": 4,
   "id": "ba791dbd-1b60-40da-8125-8f89b557c373",
   "metadata": {},
   "outputs": [
    {
     "name": "stderr",
     "output_type": "stream",
     "text": [
      "100%|████████████████████████████████████████| 40/40 [1:35:20<00:00, 143.01s/it]"
     ]
    },
    {
     "name": "stdout",
     "output_type": "stream",
     "text": [
      "CPU times: user 1h 56s, sys: 18.3 s, total: 1h 1min 14s\n",
      "Wall time: 1h 35min 21s\n"
     ]
    },
    {
     "name": "stderr",
     "output_type": "stream",
     "text": [
      "\n"
     ]
    }
   ],
   "source": [
    "%%time\n",
    "ad_diff_circ = adm.ad_diff_circuit(qnum_dic,const_dic,index_dic)\n",
    "\n",
    "for i in trange(40):\n",
    "    wb = load_workbook(filename=file_path)\n",
    "    ws = wb[sheet_name]\n",
    "    data_list = []\n",
    "    for j in excel_columns:\n",
    "        data_list.append(ws[j+excel_index[i]].value)\n",
    "    # 数合わせ\n",
    "    data_list.append(0)\n",
    "    data_list.insert(0,0)\n",
    "\n",
    "    circ_list = []\n",
    "    for k in range(const_dic['x']):\n",
    "        length = qnum*4+qnum_const*3\n",
    "        qc = QuantumCircuit(length,qnum)\n",
    "        adm.encoding_three(qc,data_list[k],data_list[k+1],data_list[k+2],index_dic,qnum_after_decimal,qnum_interger)\n",
    "        qc.append(ad_diff_circ,[_ for _ in range(length)])\n",
    "        qc.measure(index_dic['ans'],[_ for _ in range(qnum)])\n",
    "        circ_list.append(qc)\n",
    "\n",
    "    # #リストで1ｓtep解が得られる。   \n",
    "    quantum_answer = adm.execute_qc(circ_list, provider, 1, 'simulator_mps')\n",
    "    new_data_list = [adm.ans_to_syousuu_sitei(adm.quant_ans_to_bin_ans(i),qnum_after_decimal*2) for i in quantum_answer]\n",
    "\n",
    "    for j,column_num in enumerate(excel_columns):\n",
    "        ws[column_num+excel_index[i+1]] = new_data_list[j]\n",
    "    wb.save(file_path)"
   ]
  },
  {
   "cell_type": "code",
   "execution_count": null,
   "id": "9f1474f8-8174-41ac-95e1-47d8581f9b67",
   "metadata": {},
   "outputs": [],
   "source": []
  },
  {
   "cell_type": "code",
   "execution_count": null,
   "id": "8b09b8a2-3ec0-4fa3-80ca-a4f9fc54dd07",
   "metadata": {},
   "outputs": [],
   "source": []
  },
  {
   "cell_type": "code",
   "execution_count": null,
   "id": "1988d3ba-9c82-4fea-9588-1afd59c4e190",
   "metadata": {},
   "outputs": [],
   "source": []
  },
  {
   "cell_type": "code",
   "execution_count": null,
   "id": "2ef313dd-3ca2-4e2e-848c-21f9abe6108d",
   "metadata": {},
   "outputs": [],
   "source": []
  },
  {
   "cell_type": "code",
   "execution_count": null,
   "id": "cfb05ee2-2f78-4a7c-919e-461085a71885",
   "metadata": {},
   "outputs": [],
   "source": []
  },
  {
   "cell_type": "code",
   "execution_count": 12,
   "id": "29f03504-dc15-47d4-915c-e34cd41e16bb",
   "metadata": {},
   "outputs": [
    {
     "data": {
      "text/plain": [
       "[1, 2, 3]"
      ]
     },
     "execution_count": 12,
     "metadata": {},
     "output_type": "execute_result"
    }
   ],
   "source": [
    "# data_list = []\n",
    "data_list"
   ]
  },
  {
   "cell_type": "code",
   "execution_count": 11,
   "id": "af9c8fc6-cf1a-4efe-83f6-c29cc2da3f7b",
   "metadata": {},
   "outputs": [],
   "source": [
    "data_list.append(3)"
   ]
  },
  {
   "cell_type": "code",
   "execution_count": null,
   "id": "43cb14f4-06a4-4146-89a3-aeb99d962ec2",
   "metadata": {},
   "outputs": [],
   "source": []
  },
  {
   "cell_type": "code",
   "execution_count": 17,
   "id": "e9a1cffa-2f6d-4c5b-b3cf-15aa55f22b01",
   "metadata": {},
   "outputs": [
    {
     "data": {
      "text/plain": [
       "str"
      ]
     },
     "execution_count": 17,
     "metadata": {},
     "output_type": "execute_result"
    }
   ],
   "source": [
    "type('1')"
   ]
  },
  {
   "cell_type": "code",
   "execution_count": 18,
   "id": "747f7cab-3b9e-491d-a30f-89c69390bd1b",
   "metadata": {},
   "outputs": [
    {
     "ename": "TypeError",
     "evalue": "can only concatenate str (not \"int\") to str",
     "output_type": "error",
     "traceback": [
      "\u001b[0;31m---------------------------------------------------------------------------\u001b[0m",
      "\u001b[0;31mTypeError\u001b[0m                                 Traceback (most recent call last)",
      "Input \u001b[0;32mIn [18]\u001b[0m, in \u001b[0;36m<cell line: 1>\u001b[0;34m()\u001b[0m\n\u001b[0;32m----> 1\u001b[0m \u001b[38;5;124;43m'\u001b[39;49m\u001b[38;5;124;43m1\u001b[39;49m\u001b[38;5;124;43m'\u001b[39;49m\u001b[43m \u001b[49m\u001b[38;5;241;43m+\u001b[39;49m\u001b[43m \u001b[49m\u001b[38;5;241;43m1\u001b[39;49m\n",
      "\u001b[0;31mTypeError\u001b[0m: can only concatenate str (not \"int\") to str"
     ]
    }
   ],
   "source": [
    "'1' + 1"
   ]
  },
  {
   "cell_type": "code",
   "execution_count": null,
   "id": "17449fbd-80d2-4a71-abd1-c161bf05371a",
   "metadata": {},
   "outputs": [],
   "source": []
  },
  {
   "cell_type": "code",
   "execution_count": 6,
   "id": "06faf9ca-5152-4eff-95f6-7257ddd6ed19",
   "metadata": {},
   "outputs": [],
   "source": [
    "# %%time\n",
    "# ################################### メインプログラム ##########################################\n",
    "\n",
    "# for i in trange(3):\n",
    "#     # エクセルから1stepデータを読み込みリストにしまう作業\n",
    "#     wb = load_workbook(filename=file_path)\n",
    "#     ws = wb['Sheet1']\n",
    "#     data_list = []\n",
    "#     for j in excel_columns:\n",
    "#         data_list.append(ws[j+excel_index[i]].value)\n",
    "\n",
    "#     # 次ステップの拡散計算ジョブ投入\n",
    "#     new_data_list = addif.solve_ad_diff_1step(data_list,qnum,qnum_const,qnum_after_decimal,qnum_interger,index_dic,C,D,x,provider,3,'simulator_mps')\n",
    "    \n",
    "#     # データリストをエクセルに書き込み保存する作業\n",
    "#     for j,column_num in enumerate(excel_columns):\n",
    "#         ws[column_num+excel_index[i+1]] = new_data_list[j]\n",
    "#     wb.save(file_path)"
   ]
  },
  {
   "cell_type": "code",
   "execution_count": 2,
   "id": "ea230ad7-7e6e-434a-aec2-c8c6b12c253d",
   "metadata": {},
   "outputs": [],
   "source": [
    "ans = {0:10,1:990}"
   ]
  },
  {
   "cell_type": "code",
   "execution_count": 3,
   "id": "3b4bbd5b-8600-412f-9cbc-826a4bad161e",
   "metadata": {},
   "outputs": [
    {
     "name": "stdout",
     "output_type": "stream",
     "text": [
      "0\n",
      "1\n"
     ]
    }
   ],
   "source": [
    "for a in ans:\n",
    "    print(a)"
   ]
  },
  {
   "cell_type": "code",
   "execution_count": null,
   "id": "f282aca1-a87c-4ddf-923d-82b942e7e57c",
   "metadata": {},
   "outputs": [],
   "source": [
    "1\n"
   ]
  }
 ],
 "metadata": {
  "kernelspec": {
   "display_name": "Python 3 (ipykernel)",
   "language": "python",
   "name": "python3"
  },
  "language_info": {
   "codemirror_mode": {
    "name": "ipython",
    "version": 3
   },
   "file_extension": ".py",
   "mimetype": "text/x-python",
   "name": "python",
   "nbconvert_exporter": "python",
   "pygments_lexer": "ipython3",
   "version": "3.9.12"
  }
 },
 "nbformat": 4,
 "nbformat_minor": 5
}
